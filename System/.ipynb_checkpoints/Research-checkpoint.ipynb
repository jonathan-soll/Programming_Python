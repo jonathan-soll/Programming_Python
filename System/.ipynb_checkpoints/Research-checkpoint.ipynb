{
 "cells": [
  {
   "cell_type": "code",
   "execution_count": 1,
   "metadata": {
    "collapsed": true
   },
   "outputs": [],
   "source": [
    "import requests\n",
    "from bs4 import BeautifulSoup"
   ]
  },
  {
   "cell_type": "code",
   "execution_count": 2,
   "metadata": {
    "collapsed": true
   },
   "outputs": [],
   "source": [
    "url = 'https://www.prnewswire.com/news-releases/all-public-company-news/?page=1&pagesize=25'"
   ]
  },
  {
   "cell_type": "code",
   "execution_count": 43,
   "metadata": {
    "collapsed": true
   },
   "outputs": [],
   "source": [
    "def make_soup(url):\n",
    "    \"\"\"\n",
    "    Return a BeautifulSoup object for the given url\n",
    "    \"\"\"\n",
    "    response = requests.get(url)\n",
    "    html = response.content\n",
    "    return BeautifulSoup(html)"
   ]
  },
  {
   "cell_type": "code",
   "execution_count": 103,
   "metadata": {},
   "outputs": [],
   "source": [
    "def parse(soup):\n",
    "    \"\"\"\n",
    "    Returns a list of tuples (Headline, Article URL, Datetime)\n",
    "    \"\"\"\n",
    "    \n",
    "    news_releases = soup.find_all(\"a\", attrs={'class': 'news-release'})\n",
    "    headlines = [(\n",
    "                    nr.get_text(), # headline text\n",
    "                    base_url + nr['href'], # url text\n",
    "                    nr.find_previous(\"small\").get_text() # date text\n",
    "                 ) for nr in news_releases]\n",
    "    \n",
    "    return headlines"
   ]
  },
  {
   "cell_type": "code",
   "execution_count": 105,
   "metadata": {
    "scrolled": false
   },
   "outputs": [
    {
     "data": {
      "text/plain": [
       "25"
      ]
     },
     "execution_count": 105,
     "metadata": {},
     "output_type": "execute_result"
    }
   ],
   "source": [
    "soup = make_soup(url)\n",
    "headlines = parse(soup)\n",
    "len(headlines)"
   ]
  },
  {
   "cell_type": "code",
   "execution_count": 106,
   "metadata": {},
   "outputs": [
    {
     "data": {
      "text/plain": [
       "[('GE Transportation and relayr Demo Rail Technologies at InnoTrans 2018; Release White Paper on the Future of Connected Trains',\n",
       "  'https://www.prnewswire.com/news-releases/ge-transportation-and-relayr-demo-rail-technologies-at-innotrans-2018-release-white-paper-on-the-future-of-connected-trains-300714684.html',\n",
       "  '12:28 ET'),\n",
       " ('ALERT: Rowley Law PLLC is Investigating Proposed Acquisition of Nexeo Solutions, Inc.',\n",
       "  'https://www.prnewswire.com/news-releases/alert-rowley-law-pllc-is-investigating-proposed-acquisition-of-nexeo-solutions-inc-300714678.html',\n",
       "  '12:17 ET'),\n",
       " ('U.S. Air Force Orders General Dynamics Air Traffic Control Radios for Bases in Europe',\n",
       "  'https://www.prnewswire.com/news-releases/us-air-force-orders-general-dynamics-air-traffic-control-radios-for-bases-in-europe-300714673.html',\n",
       "  '12:15 ET'),\n",
       " ('Chardan Advises NovellusDX in Cross-Border Biotech Merger',\n",
       "  'https://www.prnewswire.com/news-releases/chardan-advises-novellusdx-in-cross-border-biotech-merger-300714676.html',\n",
       "  '12:14 ET'),\n",
       " ('Goodyear Eagle F1 Asymmetric 3 SUV Fitted on Audi e-tron in San Francisco',\n",
       "  'https://www.prnewswire.com/news-releases/goodyear-eagle-f1-asymmetric-3-suv-fitted-on-audi-e-tron-in-san-francisco-886445354.html',\n",
       "  '12:13 ET'),\n",
       " ('GB Sciences\\' Dr. Andrea Small-Howard, Chief Science Officer, Will Be Moderating a Panel Discussion in \"Cannabis Is Medicine\" at the \"State of Cannabis\" Conference on the Queen Mary',\n",
       "  'https://www.prnewswire.com/news-releases/gb-sciences-dr-andrea-small-howard-chief-science-officer-will-be-moderating-a-panel-discussion-in-cannabis-is-medicine-at-the-state-of-cannabis-conference-on-the-queen-mary-300714675.html',\n",
       "  '12:12 ET'),\n",
       " ('Bio-Techne Announces Publication of Data Demonstrating Additional Clinical Validation of its EPI Test in European Urology Journal',\n",
       "  'https://www.prnewswire.com/news-releases/bio-techne-announces-publication-of-data-demonstrating-additional-clinical-validation-of-its-epi-test-in-european-urology-journal-300714667.html',\n",
       "  '12:02 ET'),\n",
       " ('Essity Continues the Optimization of its Production in the United States',\n",
       "  'https://www.prnewswire.com/news-releases/essity-continues-the-optimization-of-its-production-in-the-united-states-300714664.html',\n",
       "  '12:00 ET'),\n",
       " ('OUE va acquérir une participation de 60 % dans Bowsprit',\n",
       "  'https://www.prnewswire.com/news-releases/oue-va-acquérir-une-participation-de-60-dans-bowsprit-881153336.html',\n",
       "  '11:56 ET'),\n",
       " ('Boardwalktech Retains Questrade for Market Making Services',\n",
       "  'https://www.prnewswire.com/news-releases/boardwalktech-retains-questrade-for-market-making-services-300714658.html',\n",
       "  '11:55 ET'),\n",
       " ('Microchip Class Action: Bernstein Liebhard LLP Announces That A Securities Class Action Lawsuit Has Been Filed Against Microchip Technology Inc. - MCHP',\n",
       "  'https://www.prnewswire.com/news-releases/microchip-class-action-bernstein-liebhard-llp-announces-that-a-securities-class-action-lawsuit-has-been-filed-against-microchip-technology-inc---mchp-300714643.html',\n",
       "  '11:35 ET'),\n",
       " ('Forsman & Bodenfors and KBS Merge to Create New Global Agency',\n",
       "  'https://www.prnewswire.com/news-releases/forsman--bodenfors-and-kbs-merge-to-create-new-global-agency-300714640.html',\n",
       "  '11:33 ET'),\n",
       " ('American Hotel Income Properties REIT LP is pleased to confirm all hotels in North Carolina remain open',\n",
       "  'https://www.prnewswire.com/news-releases/american-hotel-income-properties-reit-lp-is-pleased-to-confirm-all-hotels-in-north-carolina-remain-open-300714635.html',\n",
       "  '11:30 ET'),\n",
       " ('FirstEnergy Corp. Declares Unchanged Common Stock Dividend',\n",
       "  'https://www.prnewswire.com/news-releases/firstenergy-corp-declares-unchanged-common-stock-dividend-300714632.html',\n",
       "  '11:25 ET'),\n",
       " ('SHAREHOLDER ALERT: Purcell Julie & Lefkowitz LLP Is Investigating Synaptics Incorporated for Potential Breaches Of Fiduciary Duty By Its Board of Directors',\n",
       "  'https://www.prnewswire.com/news-releases/shareholder-alert-purcell-julie--lefkowitz-llp-is-investigating-synaptics-incorporated-for-potential-breaches-of-fiduciary-duty-by-its-board-of-directors-300714633.html',\n",
       "  '11:23 ET'),\n",
       " ('MediaKind Shows Momentum at IBC 2018, Ericsson Expects to Close Divestment of Majority Stake Around Year End',\n",
       "  'https://www.prnewswire.com/news-releases/mediakind-shows-momentum-at-ibc-2018-ericsson-expects-to-close-divestment-of-majority-stake-around-year-end-300714627.html',\n",
       "  '11:14 ET'),\n",
       " ('Grand Opening: U-Haul of Superior Offers 734 Self-Storage Rooms',\n",
       "  'https://www.prnewswire.com/news-releases/grand-opening-u-haul-of-superior-offers-734-self-storage-rooms-300714626.html',\n",
       "  '11:13 ET'),\n",
       " ('Eroll Grow Tech (Seedo) Merges Its Activities With GRCR Partners; Cannabics Pharmaceuticals to Own 13.6% in the Merged Company',\n",
       "  'https://www.prnewswire.com/news-releases/eroll-grow-tech-seedo-merges-its-activities-with-grcr-partners-cannabics-pharmaceuticals-to-own-13-6-in-the-merged-company-300714621.html',\n",
       "  '11:06 ET'),\n",
       " ('Scripps stations commit to 100 minutes of political coverage ahead of midterm elections',\n",
       "  'https://www.prnewswire.com/news-releases/scripps-stations-commit-to-100-minutes-of-political-coverage-ahead-of-midterm-elections-300714611.html',\n",
       "  '11:00 ET'),\n",
       " ('Landis+Gyr Raises Money for Energy Assistance',\n",
       "  'https://www.prnewswire.com/news-releases/landisgyr-raises-money-for-energy-assistance-300713929.html',\n",
       "  '11:00 ET'),\n",
       " ('Raytheon names Scott A. Lupkas vice president, Pension Investments',\n",
       "  'https://www.prnewswire.com/news-releases/raytheon-names-scott-a-lupkas-vice-president-pension-investments-300714616.html',\n",
       "  '11:00 ET'),\n",
       " ('FCA US Recognized as a Top Employer for Hispanic Women',\n",
       "  'https://www.prnewswire.com/news-releases/fca-us-recognized-as-a-top-employer-for-hispanic-women-300714597.html',\n",
       "  '11:00 ET'),\n",
       " ('EVIO Labs Massachusetts Announces Relocation to Framingham',\n",
       "  'https://www.prnewswire.com/news-releases/evio-labs-massachusetts-announces-relocation-to-framingham-300714617.html',\n",
       "  '10:58 ET'),\n",
       " ('CannTrust schreibt mit der ersten Lieferung von Cannabis-Öl an den dänischen Partner STENOCARE Geschichte',\n",
       "  'https://www.prnewswire.com/news-releases/canntrust-schreibt-mit-der-ersten-lieferung-von-cannabis-öl-an-den-dänischen-partner-stenocare-geschichte-813908476.html',\n",
       "  '10:55 ET'),\n",
       " ('Cboe Global Markets Transfers Common Stock Listing Exclusively to Cboe',\n",
       "  'https://www.prnewswire.com/news-releases/cboe-global-markets-transfers-common-stock-listing-exclusively-to-cboe-300714613.html',\n",
       "  '10:54 ET')]"
      ]
     },
     "execution_count": 106,
     "metadata": {},
     "output_type": "execute_result"
    }
   ],
   "source": [
    "headlines"
   ]
  }
 ],
 "metadata": {
  "kernelspec": {
   "display_name": "news_aggregator",
   "language": "python",
   "name": "news_aggregator"
  },
  "language_info": {
   "codemirror_mode": {
    "name": "ipython",
    "version": 3
   },
   "file_extension": ".py",
   "mimetype": "text/x-python",
   "name": "python",
   "nbconvert_exporter": "python",
   "pygments_lexer": "ipython3",
   "version": "3.6.6"
  }
 },
 "nbformat": 4,
 "nbformat_minor": 2
}
