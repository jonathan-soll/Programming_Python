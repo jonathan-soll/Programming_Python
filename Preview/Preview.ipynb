{
 "cells": [
  {
   "cell_type": "code",
   "execution_count": 1,
   "metadata": {
    "collapsed": true
   },
   "outputs": [],
   "source": [
    "dbfilename = 'people_file'\n",
    "ENDDB = 'enddb.'\n",
    "ENDREC = 'endrec.'\n",
    "RECSEP = '=>'"
   ]
  },
  {
   "cell_type": "code",
   "execution_count": 2,
   "metadata": {},
   "outputs": [],
   "source": [
    "from initdata import db"
   ]
  },
  {
   "cell_type": "code",
   "execution_count": null,
   "metadata": {},
   "outputs": [],
   "source": [
    "dbfile = open(dbfilename, 'w')\n",
    "\n",
    "for key in db:\n",
    "    print(key, file = dbfile)\n",
    "    for (name, value) in db[key].items():\n",
    "        print(name + RECSEP + repr(value), file = dbfile)\n",
    "    print(ENDREC, file=dbfile)\n",
    "print(ENDDB, file=dbfile)\n",
    "    \n",
    "dbfile.close()"
   ]
  },
  {
   "cell_type": "code",
   "execution_count": null,
   "metadata": {},
   "outputs": [],
   "source": [
    "dbfile = open(dbfilename)\n",
    "import sys\n",
    "sys.stdin = dbfile\n",
    "db = {}\n",
    "key = input()\n",
    "while key != ENDDB:\n",
    "    rec = {}\n",
    "    field = input()\n",
    "    while field != ENDREC:\n",
    "        name, value = field.split(RECSEP)\n",
    "        rec[name] = eval(value)\n",
    "        field = input()\n",
    "    db[key] = rec\n",
    "    key = input()"
   ]
  },
  {
   "cell_type": "code",
   "execution_count": 3,
   "metadata": {},
   "outputs": [
    {
     "data": {
      "text/plain": [
       "{'bob': {'age': 42, 'job': 'dev', 'name': 'Bob Smith', 'pay': 30000},\n",
       " 'sue': {'age': 45, 'job': 'hdw', 'name': 'Sue Jones', 'pay': 40000},\n",
       " 'tom': {'age': 50, 'job': None, 'name': 'Tom', 'pay': 0}}"
      ]
     },
     "execution_count": 3,
     "metadata": {},
     "output_type": "execute_result"
    }
   ],
   "source": [
    "db"
   ]
  },
  {
   "cell_type": "code",
   "execution_count": null,
   "metadata": {
    "collapsed": true
   },
   "outputs": [],
   "source": []
  }
 ],
 "metadata": {
  "kernelspec": {
   "display_name": "Python 3",
   "language": "python",
   "name": "python3"
  },
  "language_info": {
   "codemirror_mode": {
    "name": "ipython",
    "version": 3
   },
   "file_extension": ".py",
   "mimetype": "text/x-python",
   "name": "python",
   "nbconvert_exporter": "python",
   "pygments_lexer": "ipython3",
   "version": "3.6.6"
  }
 },
 "nbformat": 4,
 "nbformat_minor": 2
}
